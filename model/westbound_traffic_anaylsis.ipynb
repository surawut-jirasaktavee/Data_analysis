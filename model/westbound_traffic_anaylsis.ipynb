{
 "cells": [
  {
   "cell_type": "markdown",
   "metadata": {},
   "source": [
    "# I-94 INTERSTATE HIGHWAY ANALYSIS\n",
    "\n",
    "# INDICATOR OF HEAVY TRAFFIC ON I-94 \n",
    "\n",
    "\n",
    "> IN THIS PROJECT IS ANALYSIS A DATASET ABOUT WEST BOUND TRAFFICON TRAFFIC ON I-94\n",
    "\n",
    "> USING WESTBOUND TRAFFIC ON THE I-94 INTERSTATE HIGHWAY DATASET. \n",
    "\n",
    "> UCI MACHINE LEARNING REPORSITORY BY JOHN HOGUE.\n",
    "\n",
    "> THE GOAL OF OUR ANALYSIS IS TO DETERMINE A FEW INDICATORS OF HEAVY TRAFFIC ON I-94. THESE INDICATORS CAN BE WEATHER TYPE, TIME OF THE DAY, TIME OF THE WEEK, ETC. "
   ]
  },
  {
   "cell_type": "markdown",
   "metadata": {},
   "source": [
    "# IMPORT LIBRARIES"
   ]
  },
  {
   "cell_type": "code",
   "execution_count": 5,
   "metadata": {},
   "outputs": [],
   "source": [
    "import pandas as pd\n",
    "import seaborn as sns\n",
    "import matplotlib.pyplot as plt\n",
    "%matplotlib inline"
   ]
  },
  {
   "cell_type": "code",
   "execution_count": 6,
   "metadata": {},
   "outputs": [
    {
     "name": "stdout",
     "output_type": "stream",
     "text": [
      "  holiday    temp  rain_1h  snow_1h  clouds_all weather_main  \\\n",
      "0    None  288.28      0.0      0.0          40       Clouds   \n",
      "1    None  289.36      0.0      0.0          75       Clouds   \n",
      "2    None  289.58      0.0      0.0          90       Clouds   \n",
      "3    None  290.13      0.0      0.0          90       Clouds   \n",
      "4    None  291.14      0.0      0.0          75       Clouds   \n",
      "\n",
      "  weather_description            date_time  traffic_volume  \n",
      "0    scattered clouds  2012-10-02 09:00:00            5545  \n",
      "1       broken clouds  2012-10-02 10:00:00            4516  \n",
      "2     overcast clouds  2012-10-02 11:00:00            4767  \n",
      "3     overcast clouds  2012-10-02 12:00:00            5026  \n",
      "4       broken clouds  2012-10-02 13:00:00            4918  \n"
     ]
    }
   ],
   "source": [
    "# READ CSV FILE AND SHOW FIRST FIVE ROWS\n",
    "i_94 = pd.read_csv('Metro_Interstate_Traffic_Volume.csv')\n",
    "print(i_94.head())"
   ]
  },
  {
   "cell_type": "code",
   "execution_count": 7,
   "metadata": {},
   "outputs": [
    {
     "name": "stdout",
     "output_type": "stream",
     "text": [
      "      holiday    temp  rain_1h  snow_1h  clouds_all  weather_main  \\\n",
      "48199    None  283.45      0.0      0.0          75        Clouds   \n",
      "48200    None  282.76      0.0      0.0          90        Clouds   \n",
      "48201    None  282.73      0.0      0.0          90  Thunderstorm   \n",
      "48202    None  282.09      0.0      0.0          90        Clouds   \n",
      "48203    None  282.12      0.0      0.0          90        Clouds   \n",
      "\n",
      "          weather_description            date_time  traffic_volume  \n",
      "48199           broken clouds  2018-09-30 19:00:00            3543  \n",
      "48200         overcast clouds  2018-09-30 20:00:00            2781  \n",
      "48201  proximity thunderstorm  2018-09-30 21:00:00            2159  \n",
      "48202         overcast clouds  2018-09-30 22:00:00            1450  \n",
      "48203         overcast clouds  2018-09-30 23:00:00             954  \n"
     ]
    }
   ],
   "source": [
    "# SHOW LAST FIVE ROWS\n",
    "print(i_94.tail()) "
   ]
  },
  {
   "cell_type": "code",
   "execution_count": 8,
   "metadata": {},
   "outputs": [
    {
     "name": "stdout",
     "output_type": "stream",
     "text": [
      "<class 'pandas.core.frame.DataFrame'>\n",
      "RangeIndex: 48204 entries, 0 to 48203\n",
      "Data columns (total 9 columns):\n",
      " #   Column               Non-Null Count  Dtype  \n",
      "---  ------               --------------  -----  \n",
      " 0   holiday              48204 non-null  object \n",
      " 1   temp                 48204 non-null  float64\n",
      " 2   rain_1h              48204 non-null  float64\n",
      " 3   snow_1h              48204 non-null  float64\n",
      " 4   clouds_all           48204 non-null  int64  \n",
      " 5   weather_main         48204 non-null  object \n",
      " 6   weather_description  48204 non-null  object \n",
      " 7   date_time            48204 non-null  object \n",
      " 8   traffic_volume       48204 non-null  int64  \n",
      "dtypes: float64(3), int64(2), object(4)\n",
      "memory usage: 3.3+ MB\n"
     ]
    }
   ],
   "source": [
    "# SHOW DETAILS\n",
    "i_94.info()"
   ]
  },
  {
   "cell_type": "markdown",
   "metadata": {},
   "source": [
    "# EXPLORE EARLIER DATASET\n",
    "\n",
    "> THIS DATASET DON'T HAVE ANY MISSING VALUES. \n",
    "\n",
    "> THIS DATASET HAVE 48,204 ROWS AND 9 COLUMNS.\n",
    "\n",
    "> THIS DATASET HAVE 3 FLOAT, 2 INT AND 4 OBJECTS DATATYPE.\n",
    "\n",
    "* EACH ROW DESCRIBES TRFAFIC AND WEATHER DATA FOR A SPECIFIC HOUR - WE HAVE DATA FROM 2012-20-02 09:00:00 UNTIL 2018-09-30 23:00:00.\n",
    "\n",
    "A STATION LOCATED APPROXIMATELY MIDWAY BETWEEN MINNEAPOLIS AND SAINT PAUL RECORDS THE TRAFFIC DATA (SEE THE DATASET DOCUMENTATION). FOR THIS STATION, THE DIRECTION OF THE ROUTE IS WESTBOUND (I.E., CARS MOVING FROM EAST TO WEST). \n",
    "\n",
    "THIS MEANS THAT THE RESULTS OF OUR ANALYSIS WILL BE ABOUT THE WESTBOUND TRAFFIC IN THE PROXIMITY OF THE STATION. IN OTHER WORDS, WE SHOULD AVOID GENERAILIZING OUR RESULTS FOR THE ENTIRE I-94 HIGHWAY."
   ]
  },
  {
   "cell_type": "markdown",
   "metadata": {},
   "source": [
    "# ANALYZING TRAFFIC VOLUME"
   ]
  },
  {
   "cell_type": "code",
   "execution_count": 9,
   "metadata": {},
   "outputs": [
    {
     "data": {
      "text/plain": [
       "<function matplotlib.pyplot.show(close=None, block=None)>"
      ]
     },
     "execution_count": 9,
     "metadata": {},
     "output_type": "execute_result"
    },
    {
     "data": {
      "image/png": "[encoded data removed]",
      "text/plain": [
       "<Figure size 432x288 with 1 Axes>"
      ]
     },
     "metadata": {
      "needs_background": "light"
     },
     "output_type": "display_data"
    }
   ],
   "source": [
    "# PLOT FREQUENCY TRAFFIC HISTOGRAM\n",
    "i_94['traffic_volume'].plot.hist()\n",
    "plt.show"
   ]
  },
  {
   "cell_type": "code",
   "execution_count": 10,
   "metadata": {},
   "outputs": [
    {
     "data": {
      "text/html": [
       "<div><div id=037e0e57-951c-4328-9755-113fd857bae2 style=\"display:none; background-color:#9D6CFF; color:white; width:200px; height:30px; padding-left:5px; border-radius:4px; flex-direction:row; justify-content:space-around; align-items:center;\" onmouseover=\"this.style.backgroundColor='#BA9BF8'\" onmouseout=\"this.style.backgroundColor='#9D6CFF'\" onclick=\"window.commands?.execute('create-mitosheet-from-dataframe-output');\">See Full Dataframe in Mito</div> <script> if (window.commands.hasCommand('create-mitosheet-from-dataframe-output')) document.getElementById('037e0e57-951c-4328-9755-113fd857bae2').style.display = 'flex' </script> <table border=\"1\" class=\"dataframe\">\n",
       "  <thead>\n",
       "    <tr style=\"text-align: right;\">\n",
       "      <th></th>\n",
       "      <th>index</th>\n",
       "      <th>traffic_volume</th>\n",
       "    </tr>\n",
       "  </thead>\n",
       "  <tbody>\n",
       "    <tr>\n",
       "      <th>0</th>\n",
       "      <td>count</td>\n",
       "      <td>48204.000000</td>\n",
       "    </tr>\n",
       "    <tr>\n",
       "      <th>1</th>\n",
       "      <td>mean</td>\n",
       "      <td>3259.818355</td>\n",
       "    </tr>\n",
       "    <tr>\n",
       "      <th>2</th>\n",
       "      <td>std</td>\n",
       "      <td>1986.860670</td>\n",
       "    </tr>\n",
       "    <tr>\n",
       "      <th>3</th>\n",
       "      <td>min</td>\n",
       "      <td>0.000000</td>\n",
       "    </tr>\n",
       "    <tr>\n",
       "      <th>4</th>\n",
       "      <td>25%</td>\n",
       "      <td>1193.000000</td>\n",
       "    </tr>\n",
       "    <tr>\n",
       "      <th>5</th>\n",
       "      <td>50%</td>\n",
       "      <td>3380.000000</td>\n",
       "    </tr>\n",
       "    <tr>\n",
       "      <th>6</th>\n",
       "      <td>75%</td>\n",
       "      <td>4933.000000</td>\n",
       "    </tr>\n",
       "    <tr>\n",
       "      <th>7</th>\n",
       "      <td>max</td>\n",
       "      <td>7280.000000</td>\n",
       "    </tr>\n",
       "  </tbody>\n",
       "</table></div>"
      ],
      "text/plain": [
       "   index  traffic_volume\n",
       "0  count    48204.000000\n",
       "1   mean     3259.818355\n",
       "2    std     1986.860670\n",
       "3    min        0.000000\n",
       "4    25%     1193.000000\n",
       "5    50%     3380.000000\n",
       "6    75%     4933.000000\n",
       "7    max     7280.000000"
      ]
     },
     "execution_count": 10,
     "metadata": {},
     "output_type": "execute_result"
    }
   ],
   "source": [
    "# DESCRIBE VOLUMN COLUMN\n",
    "i_94['traffic_volume'].describe().reset_index()"
   ]
  },
  {
   "cell_type": "markdown",
   "metadata": {},
   "source": [
    "* BETWEEN 2012-10-02 09:00:00 AND 2018-09-30 23:00:00, THE HOURLY TRAFFIC VOLUME VARIED FROM 0 TO 7,280 CARS. \n",
    "\n",
    "* THE AVERAGE IS 3,260 CARS AND STANDARD DEVIATION IS 1,987 CARS.\n",
    "\n",
    "* ABOUT 25% OF THE TIME, THERE WRE ONLY 1,193 CARS OR FEWER PASSING THE STATION EACH HOUR - THIS PROBABLY OCCURS DURING THE NIGHT.\n",
    "\n",
    "* HOWEVER, ABOUT 25% OF THE TIME, THE TRAFFIC VOLUME WAS FOUR TIMES AS MUCH (4,933 CARS OR MORE).\n",
    "\n",
    "* THIS OBSERVATION GIVES OUR ANALYSIS AN INTERESTING DIRECTION: COMPARING DAYTIME DATA WITH NIGHTTIME DATA."
   ]
  },
  {
   "cell_type": "markdown",
   "metadata": {},
   "source": [
    "## TRAFFIC VOLUME: DAY VS NIGHT"
   ]
  },
  {
   "cell_type": "markdown",
   "metadata": {},
   "source": [
    "###### WE WILL START BY DIVIDING THE DATASET INTO TWO PARTS: \n",
    "    \n",
    "    DAYTIME DATA: HOURS FROM 7 AM TO 7 PM (12 HOURS)\n",
    "    NIGHTTIME DATA: HOURS FROM 7 PM TO 7 AM (12 HOURS)\n",
    "\n",
    "WHILE THIS IS NOT A PERFECT CRITERION FOR DISTUNGUISHING BETWEEN NIGHTTIME AND DAYTIME,\n",
    "IT'S A GOOD STARTING POINT."
   ]
  },
  {
   "cell_type": "code",
   "execution_count": 11,
   "metadata": {},
   "outputs": [
    {
     "name": "stdout",
     "output_type": "stream",
     "text": [
      "This data contains the day time between 6 am to 6 pm have 23877 rows and 9 columns.\n",
      "This data contains the night time between 6 pm to 6 am have 24327 rows and 9 columns.\n",
      "These 2 variables contain time intervals all day have 48204 rows.\n"
     ]
    }
   ],
   "source": [
    "# CREATE DATETIME AND ASSIGN TO COLUMN\n",
    "i_94['date_time'] = pd.to_datetime(i_94['date_time'])\n",
    "\n",
    "# SEPARATE BETWEEN DAYTIME AND NIGHTTIME\n",
    "day = i_94.copy()[(i_94['date_time'].dt.hour >= 7) & (i_94['date_time'].dt.hour < 19)]\n",
    "night = i_94.copy()[(i_94['date_time'].dt.hour >= 19) | (i_94['date_time'].dt.hour < 7)]\n",
    "\n",
    "print(f'This data contains the day time between 6 am to 6 pm have {day.shape[0]} rows and {day.shape[1]} columns.')\n",
    "print(f'This data contains the night time between 6 pm to 6 am have {night.shape[0]} rows and {night.shape[1]} columns.')\n",
    "print(f'These 2 variables contain time intervals all day have {day.shape[0] + night.shape[0]} rows.')"
   ]
  },
  {
   "cell_type": "markdown",
   "metadata": {},
   "source": [
    "WE ARE GOING TO LOOK AT THE HISTOGRAMS OF TRAFFIC VOLUME SIDE-BY-SIDE BY USING A GRID CHART."
   ]
  },
  {
   "cell_type": "code",
   "execution_count": 13,
   "metadata": {},
   "outputs": [
    {
     "data": {
      "image/png": "[encoded data removed]",
      "text/plain": [
       "<Figure size 864x288 with 2 Axes>"
      ]
     },
     "metadata": {
      "needs_background": "light"
     },
     "output_type": "display_data"
    }
   ],
   "source": [
    "# PLOT TRAFFIC HISTOGRAM IN DAYTIME\n",
    "plt.figure(figsize=(12, 4))\n",
    "plt.subplot(1, 2, 1)\n",
    "plt.hist(day['traffic_volume'])\n",
    "plt.xlim(0, 8000)\n",
    "plt.ylim(0, 8000)\n",
    "plt.title('Traffic Volume between the day')\n",
    "plt.xlabel('Traffic Volume')\n",
    "plt.ylabel('Frequency')\n",
    "\n",
    "# PLOT TRAFFIC HISTOGRAM IN NIGHTTIME\n",
    "plt.subplot(1, 2, 2)\n",
    "plt.hist(night['traffic_volume'])\n",
    "plt.xlim(0, 8000)\n",
    "plt.ylim(0, 8000)\n",
    "plt.title('Traffic Volume between the night')\n",
    "plt.xlabel('Traffic Volume')\n",
    "plt.ylabel('Frequency')\n",
    "\n",
    "plt.show()"
   ]
  },
  {
   "cell_type": "code",
   "execution_count": 14,
   "metadata": {},
   "outputs": [
    {
     "name": "stdout",
     "output_type": "stream",
     "text": [
      "Describe for the day time: \n"
     ]
    },
    {
     "data": {
      "text/html": [
       "<div><div id=52f827eb-53aa-40ec-8e1f-5966895ebf27 style=\"display:none; background-color:#9D6CFF; color:white; width:200px; height:30px; padding-left:5px; border-radius:4px; flex-direction:row; justify-content:space-around; align-items:center;\" onmouseover=\"this.style.backgroundColor='#BA9BF8'\" onmouseout=\"this.style.backgroundColor='#9D6CFF'\" onclick=\"window.commands?.execute('create-mitosheet-from-dataframe-output');\">See Full Dataframe in Mito</div> <script> if (window.commands.hasCommand('create-mitosheet-from-dataframe-output')) document.getElementById('52f827eb-53aa-40ec-8e1f-5966895ebf27').style.display = 'flex' </script> <table border=\"1\" class=\"dataframe\">\n",
       "  <thead>\n",
       "    <tr style=\"text-align: right;\">\n",
       "      <th></th>\n",
       "      <th>index</th>\n",
       "      <th>traffic_volume</th>\n",
       "    </tr>\n",
       "  </thead>\n",
       "  <tbody>\n",
       "    <tr>\n",
       "      <th>0</th>\n",
       "      <td>count</td>\n",
       "      <td>23877.000000</td>\n",
       "    </tr>\n",
       "    <tr>\n",
       "      <th>1</th>\n",
       "      <td>mean</td>\n",
       "      <td>4762.047452</td>\n",
       "    </tr>\n",
       "    <tr>\n",
       "      <th>2</th>\n",
       "      <td>std</td>\n",
       "      <td>1174.546482</td>\n",
       "    </tr>\n",
       "    <tr>\n",
       "      <th>3</th>\n",
       "      <td>min</td>\n",
       "      <td>0.000000</td>\n",
       "    </tr>\n",
       "    <tr>\n",
       "      <th>4</th>\n",
       "      <td>25%</td>\n",
       "      <td>4252.000000</td>\n",
       "    </tr>\n",
       "    <tr>\n",
       "      <th>5</th>\n",
       "      <td>50%</td>\n",
       "      <td>4820.000000</td>\n",
       "    </tr>\n",
       "    <tr>\n",
       "      <th>6</th>\n",
       "      <td>75%</td>\n",
       "      <td>5559.000000</td>\n",
       "    </tr>\n",
       "    <tr>\n",
       "      <th>7</th>\n",
       "      <td>max</td>\n",
       "      <td>7280.000000</td>\n",
       "    </tr>\n",
       "  </tbody>\n",
       "</table></div>"
      ],
      "text/plain": [
       "   index  traffic_volume\n",
       "0  count    23877.000000\n",
       "1   mean     4762.047452\n",
       "2    std     1174.546482\n",
       "3    min        0.000000\n",
       "4    25%     4252.000000\n",
       "5    50%     4820.000000\n",
       "6    75%     5559.000000\n",
       "7    max     7280.000000"
      ]
     },
     "metadata": {},
     "output_type": "display_data"
    },
    {
     "name": "stdout",
     "output_type": "stream",
     "text": [
      "\n",
      "Describe for the night time: \n"
     ]
    },
    {
     "data": {
      "text/html": [
       "<div><div id=3960d991-9441-4bf9-8874-0454ef21ae84 style=\"display:none; background-color:#9D6CFF; color:white; width:200px; height:30px; padding-left:5px; border-radius:4px; flex-direction:row; justify-content:space-around; align-items:center;\" onmouseover=\"this.style.backgroundColor='#BA9BF8'\" onmouseout=\"this.style.backgroundColor='#9D6CFF'\" onclick=\"window.commands?.execute('create-mitosheet-from-dataframe-output');\">See Full Dataframe in Mito</div> <script> if (window.commands.hasCommand('create-mitosheet-from-dataframe-output')) document.getElementById('3960d991-9441-4bf9-8874-0454ef21ae84').style.display = 'flex' </script> <table border=\"1\" class=\"dataframe\">\n",
       "  <thead>\n",
       "    <tr style=\"text-align: right;\">\n",
       "      <th></th>\n",
       "      <th>index</th>\n",
       "      <th>traffic_volume</th>\n",
       "    </tr>\n",
       "  </thead>\n",
       "  <tbody>\n",
       "    <tr>\n",
       "      <th>0</th>\n",
       "      <td>count</td>\n",
       "      <td>24327.000000</td>\n",
       "    </tr>\n",
       "    <tr>\n",
       "      <th>1</th>\n",
       "      <td>mean</td>\n",
       "      <td>1785.377441</td>\n",
       "    </tr>\n",
       "    <tr>\n",
       "      <th>2</th>\n",
       "      <td>std</td>\n",
       "      <td>1441.951197</td>\n",
       "    </tr>\n",
       "    <tr>\n",
       "      <th>3</th>\n",
       "      <td>min</td>\n",
       "      <td>0.000000</td>\n",
       "    </tr>\n",
       "    <tr>\n",
       "      <th>4</th>\n",
       "      <td>25%</td>\n",
       "      <td>530.000000</td>\n",
       "    </tr>\n",
       "    <tr>\n",
       "      <th>5</th>\n",
       "      <td>50%</td>\n",
       "      <td>1287.000000</td>\n",
       "    </tr>\n",
       "    <tr>\n",
       "      <th>6</th>\n",
       "      <td>75%</td>\n",
       "      <td>2819.000000</td>\n",
       "    </tr>\n",
       "    <tr>\n",
       "      <th>7</th>\n",
       "      <td>max</td>\n",
       "      <td>6386.000000</td>\n",
       "    </tr>\n",
       "  </tbody>\n",
       "</table></div>"
      ],
      "text/plain": [
       "   index  traffic_volume\n",
       "0  count    24327.000000\n",
       "1   mean     1785.377441\n",
       "2    std     1441.951197\n",
       "3    min        0.000000\n",
       "4    25%      530.000000\n",
       "5    50%     1287.000000\n",
       "6    75%     2819.000000\n",
       "7    max     6386.000000"
      ]
     },
     "metadata": {},
     "output_type": "display_data"
    }
   ],
   "source": [
    "# SHOW DETAILS IN DAY TIME\n",
    "print(f'Describe for the day time: ')\n",
    "display(day.traffic_volume.describe().reset_index())\n",
    "print()\n",
    "# SHOW DETAILS IN DAY TIME\n",
    "print(f'Describe for the night time: ')\n",
    "display(night.traffic_volume.describe().reset_index())"
   ]
  },
  {
   "cell_type": "markdown",
   "metadata": {},
   "source": [
    "THE HISTOGRAM THAT SHOWS THE DISTRIBUTION OF TRAFFIC VOLUME DURING THE DAY IS LEFT SKEWED.\n",
    "\n",
    "THIS MEANS THAT MOST OF THE TRAFFIC VOLUME VALUES ARE HIGH - THERE ARE 4,252 OR MORE CARS PASSING THE STATION EACH HOUR 75% OF THE TIME (BECAUSE 25% OF VALUES ARE LESS THAN 4,252).\n",
    "\n",
    "THE HISTOGRAM DISPLAYING THE NIGHTTIME DATA IS RIGHT SKEWED. THIS MEANS THAT MOST OF THE TRAFFIC VOLUME VALUES ARE LOW - 75% OF THE TIME, THE NUMBER OF CARS THAT PASSED THE STATION\n",
    "EACH HOUR WAS LESS THAN 2,819.\n",
    "\n",
    "ALTHOUGH THERE ARE STILL MEASUREMENTS OF OVER 5,000 CARS PER HOUR, THE TRAFFIC AT NIGHT IS GENERALLY LIGHT. OUR GOAL IS TO FIND INDICATORS OF HEAVY TRAFFIC, SO WE WILL ONLY FOCUS ON THE DAYTIME DATA MOVING FORWARD."
   ]
  },
  {
   "cell_type": "markdown",
   "metadata": {},
   "source": [
    "## TIME INDICATORS \n",
    "\n",
    "> ONE OF THE POSSIBLE INDICATORS OF HEAVY TRAFFIC IS TIME. THERE MIGHT BE MORE PEOPLE ON THE ROAD IN A CERTAIN MONTH, ON A CERTAIN DAY, OF AT A CERTAIN TIME OF DAY."
   ]
  },
  {
   "cell_type": "markdown",
   "metadata": {},
   "source": [
    "WE ARE GOIN TO LOOK AT A FEW LINE PLOTS SHOWING HOW THE TRAFFIC VOLUME CHANGED ACCORDING TO THE FOLLOWING PARAMETERS:\n",
    "\n",
    "* MONTH\n",
    "\n",
    "* DAY OF THE WEEK\n",
    "\n",
    "* TIME OF DAY"
   ]
  },
  {
   "cell_type": "code",
   "execution_count": 15,
   "metadata": {},
   "outputs": [
    {
     "name": "stdout",
     "output_type": "stream",
     "text": [
      "Describe for the day of week: \n"
     ]
    },
    {
     "data": {
      "text/html": [
       "<div><div id=0bcbe630-5847-4b2a-8184-62906d5394b3 style=\"display:none; background-color:#9D6CFF; color:white; width:200px; height:30px; padding-left:5px; border-radius:4px; flex-direction:row; justify-content:space-around; align-items:center;\" onmouseover=\"this.style.backgroundColor='#BA9BF8'\" onmouseout=\"this.style.backgroundColor='#9D6CFF'\" onclick=\"window.commands?.execute('create-mitosheet-from-dataframe-output');\">See Full Dataframe in Mito</div> <script> if (window.commands.hasCommand('create-mitosheet-from-dataframe-output')) document.getElementById('0bcbe630-5847-4b2a-8184-62906d5394b3').style.display = 'flex' </script> <table border=\"1\" class=\"dataframe\">\n",
       "  <thead>\n",
       "    <tr style=\"text-align: right;\">\n",
       "      <th></th>\n",
       "      <th>month</th>\n",
       "      <th>traffic_volume</th>\n",
       "    </tr>\n",
       "  </thead>\n",
       "  <tbody>\n",
       "    <tr>\n",
       "      <th>0</th>\n",
       "      <td>1</td>\n",
       "      <td>4495.613727</td>\n",
       "    </tr>\n",
       "    <tr>\n",
       "      <th>1</th>\n",
       "      <td>2</td>\n",
       "      <td>4711.198394</td>\n",
       "    </tr>\n",
       "    <tr>\n",
       "      <th>2</th>\n",
       "      <td>3</td>\n",
       "      <td>4889.409560</td>\n",
       "    </tr>\n",
       "    <tr>\n",
       "      <th>3</th>\n",
       "      <td>4</td>\n",
       "      <td>4906.894305</td>\n",
       "    </tr>\n",
       "    <tr>\n",
       "      <th>4</th>\n",
       "      <td>5</td>\n",
       "      <td>4911.121609</td>\n",
       "    </tr>\n",
       "    <tr>\n",
       "      <th>...</th>\n",
       "      <td>...</td>\n",
       "      <td>...</td>\n",
       "    </tr>\n",
       "    <tr>\n",
       "      <th>7</th>\n",
       "      <td>8</td>\n",
       "      <td>4928.302035</td>\n",
       "    </tr>\n",
       "    <tr>\n",
       "      <th>8</th>\n",
       "      <td>9</td>\n",
       "      <td>4870.783145</td>\n",
       "    </tr>\n",
       "    <tr>\n",
       "      <th>9</th>\n",
       "      <td>10</td>\n",
       "      <td>4921.234922</td>\n",
       "    </tr>\n",
       "    <tr>\n",
       "      <th>10</th>\n",
       "      <td>11</td>\n",
       "      <td>4704.094319</td>\n",
       "    </tr>\n",
       "    <tr>\n",
       "      <th>11</th>\n",
       "      <td>12</td>\n",
       "      <td>4374.834566</td>\n",
       "    </tr>\n",
       "  </tbody>\n",
       "</table></div>"
      ],
      "text/plain": [
       "    month  traffic_volume\n",
       "0       1     4495.613727\n",
       "1       2     4711.198394\n",
       "2       3     4889.409560\n",
       "3       4     4906.894305\n",
       "4       5     4911.121609\n",
       "5       6     4898.019566\n",
       "6       7     4595.035744\n",
       "7       8     4928.302035\n",
       "8       9     4870.783145\n",
       "9      10     4921.234922\n",
       "10     11     4704.094319\n",
       "11     12     4374.834566"
      ]
     },
     "metadata": {},
     "output_type": "display_data"
    },
    {
     "data": {
      "text/plain": [
       "Text(0, 0.5, 'Traffic Volume')"
      ]
     },
     "execution_count": 15,
     "metadata": {},
     "output_type": "execute_result"
    },
    {
     "data": {
      "image/png": "[encoded data removed]",
      "text/plain": [
       "<Figure size 432x288 with 1 Axes>"
      ]
     },
     "metadata": {
      "needs_background": "light"
     },
     "output_type": "display_data"
    }
   ],
   "source": [
    "# SHOW TRAFFIC VOLUME IN EACH MONTH\n",
    "day['month'] = day['date_time'].dt.month\n",
    "by_month = day.groupby('month').mean()\n",
    "print(f'Describe for the day of week: ')\n",
    "display(by_month['traffic_volume'].reset_index())\n",
    "# plt.figure(figsize=(8, 4))\n",
    "by_month['traffic_volume'].plot.line()\n",
    "plt.title('The Traffic  Volume in daytime by month')\n",
    "plt.xlabel('Month')\n",
    "plt.ylabel('Traffic Volume')\n",
    "# plt.ylim(4200, 5000)"
   ]
  },
  {
   "cell_type": "markdown",
   "metadata": {},
   "source": [
    "WE HAVE FOUND THAT THE TRAFFIC VOLUME AVERAGE BY MONTH LOOKS LESS HEAVY DURING COLD MONTHS (NOV-FEB) AND LOOKS MORE INTERSE AGAIN DURING WARM MONTHS (MAR-OCT)\n",
    "\n",
    "ONE INTERESTING EXCEPTION IS JULY. THE TRAFFIC SIGNIFICANTLY LESS HEAVY IN JULY EACH YEAR OR NOT?"
   ]
  },
  {
   "cell_type": "markdown",
   "metadata": {},
   "source": [
    "TO FIND THE ANSWER OF THIS POINT. LET'S FOLLOW THE NEXT STEP FOCUS IN JULY EACH YEAR."
   ]
  },
  {
   "cell_type": "code",
   "execution_count": 16,
   "metadata": {},
   "outputs": [
    {
     "name": "stdout",
     "output_type": "stream",
     "text": [
      "Describe for July in each year: \n"
     ]
    },
    {
     "data": {
      "text/html": [
       "<div><div id=47ded404-a5c2-4c96-b131-3a70186d64c1 style=\"display:none; background-color:#9D6CFF; color:white; width:200px; height:30px; padding-left:5px; border-radius:4px; flex-direction:row; justify-content:space-around; align-items:center;\" onmouseover=\"this.style.backgroundColor='#BA9BF8'\" onmouseout=\"this.style.backgroundColor='#9D6CFF'\" onclick=\"window.commands?.execute('create-mitosheet-from-dataframe-output');\">See Full Dataframe in Mito</div> <script> if (window.commands.hasCommand('create-mitosheet-from-dataframe-output')) document.getElementById('47ded404-a5c2-4c96-b131-3a70186d64c1').style.display = 'flex' </script> <table border=\"1\" class=\"dataframe\">\n",
       "  <thead>\n",
       "    <tr style=\"text-align: right;\">\n",
       "      <th></th>\n",
       "      <th>index</th>\n",
       "      <th>traffic_volume</th>\n",
       "    </tr>\n",
       "  </thead>\n",
       "  <tbody>\n",
       "    <tr>\n",
       "      <th>0</th>\n",
       "      <td>count</td>\n",
       "      <td>2378.000000</td>\n",
       "    </tr>\n",
       "    <tr>\n",
       "      <th>1</th>\n",
       "      <td>mean</td>\n",
       "      <td>4595.035744</td>\n",
       "    </tr>\n",
       "    <tr>\n",
       "      <th>2</th>\n",
       "      <td>std</td>\n",
       "      <td>1279.496676</td>\n",
       "    </tr>\n",
       "    <tr>\n",
       "      <th>3</th>\n",
       "      <td>min</td>\n",
       "      <td>0.000000</td>\n",
       "    </tr>\n",
       "    <tr>\n",
       "      <th>4</th>\n",
       "      <td>25%</td>\n",
       "      <td>4098.250000</td>\n",
       "    </tr>\n",
       "    <tr>\n",
       "      <th>5</th>\n",
       "      <td>50%</td>\n",
       "      <td>4706.500000</td>\n",
       "    </tr>\n",
       "    <tr>\n",
       "      <th>6</th>\n",
       "      <td>75%</td>\n",
       "      <td>5434.500000</td>\n",
       "    </tr>\n",
       "    <tr>\n",
       "      <th>7</th>\n",
       "      <td>max</td>\n",
       "      <td>7090.000000</td>\n",
       "    </tr>\n",
       "  </tbody>\n",
       "</table></div>"
      ],
      "text/plain": [
       "   index  traffic_volume\n",
       "0  count     2378.000000\n",
       "1   mean     4595.035744\n",
       "2    std     1279.496676\n",
       "3    min        0.000000\n",
       "4    25%     4098.250000\n",
       "5    50%     4706.500000\n",
       "6    75%     5434.500000\n",
       "7    max     7090.000000"
      ]
     },
     "metadata": {},
     "output_type": "display_data"
    },
    {
     "data": {
      "image/png": "[encoded data removed]",
      "text/plain": [
       "<Figure size 432x288 with 1 Axes>"
      ]
     },
     "metadata": {
      "needs_background": "light"
     },
     "output_type": "display_data"
    }
   ],
   "source": [
    "# SHOW DETAIL AND VISUALIZED IN EACH YEAR\n",
    "day['year'] = day['date_time'].dt.year\n",
    "july = day[day['month'] == 7]\n",
    "print(f'Describe for July in each year: ')\n",
    "display(july['traffic_volume'].describe().reset_index())\n",
    "july.groupby('year').mean()['traffic_volume'].plot.line()\n",
    "plt.show()"
   ]
  },
  {
   "cell_type": "markdown",
   "metadata": {},
   "source": [
    "TYPICALLY, THE TRAFFIC IS PRETTY HEAVY IN JULY, SIMILAR TO THE OTHER WARM MONTHS. THE ONLY \n",
    "EXCEPTION WE SEE IS 2016, WHICH HAD A HIGH DECREASE IN TRAFFIC VOLUM. ONE POSSIBLE REASON FOR THIS IS ROAD CONSTRUCTION - THIS ARTICLE FROM 2016 SUPPORTS THIS HYPOTHESIS.\n",
    "\n",
    "AS A TENTATIVE CONCLUSION HERE, WE CAN SAY THAT WARM MONTHS GENERALLY SHOW HEAVIER TRAFFIC COMPARED TO COLD MONTHS. IN A WARM MONTH, YOU CAN EXPECT FOR EACH HOUR OF DAYTIME A TRAFFIC VOLUME CLOSE TO 5,000 CARS."
   ]
  },
  {
   "cell_type": "code",
   "execution_count": 17,
   "metadata": {},
   "outputs": [
    {
     "name": "stdout",
     "output_type": "stream",
     "text": [
      "Describe for the day of week: \n"
     ]
    },
    {
     "data": {
      "text/html": [
       "<div><div id=16b906b6-c85f-46b1-a64b-ca8d006c1aac style=\"display:none; background-color:#9D6CFF; color:white; width:200px; height:30px; padding-left:5px; border-radius:4px; flex-direction:row; justify-content:space-around; align-items:center;\" onmouseover=\"this.style.backgroundColor='#BA9BF8'\" onmouseout=\"this.style.backgroundColor='#9D6CFF'\" onclick=\"window.commands?.execute('create-mitosheet-from-dataframe-output');\">See Full Dataframe in Mito</div> <script> if (window.commands.hasCommand('create-mitosheet-from-dataframe-output')) document.getElementById('16b906b6-c85f-46b1-a64b-ca8d006c1aac').style.display = 'flex' </script> <table border=\"1\" class=\"dataframe\">\n",
       "  <thead>\n",
       "    <tr style=\"text-align: right;\">\n",
       "      <th></th>\n",
       "      <th>index</th>\n",
       "      <th>traffic_volume</th>\n",
       "    </tr>\n",
       "  </thead>\n",
       "  <tbody>\n",
       "    <tr>\n",
       "      <th>0</th>\n",
       "      <td>count</td>\n",
       "      <td>7.000000</td>\n",
       "    </tr>\n",
       "    <tr>\n",
       "      <th>1</th>\n",
       "      <td>mean</td>\n",
       "      <td>4761.958037</td>\n",
       "    </tr>\n",
       "    <tr>\n",
       "      <th>2</th>\n",
       "      <td>std</td>\n",
       "      <td>764.684759</td>\n",
       "    </tr>\n",
       "    <tr>\n",
       "      <th>3</th>\n",
       "      <td>min</td>\n",
       "      <td>3436.541789</td>\n",
       "    </tr>\n",
       "    <tr>\n",
       "      <th>4</th>\n",
       "      <td>25%</td>\n",
       "      <td>4410.400422</td>\n",
       "    </tr>\n",
       "    <tr>\n",
       "      <th>5</th>\n",
       "      <td>50%</td>\n",
       "      <td>5189.004782</td>\n",
       "    </tr>\n",
       "    <tr>\n",
       "      <th>6</th>\n",
       "      <td>75%</td>\n",
       "      <td>5288.027555</td>\n",
       "    </tr>\n",
       "    <tr>\n",
       "      <th>7</th>\n",
       "      <td>max</td>\n",
       "      <td>5311.303730</td>\n",
       "    </tr>\n",
       "  </tbody>\n",
       "</table></div>"
      ],
      "text/plain": [
       "   index  traffic_volume\n",
       "0  count        7.000000\n",
       "1   mean     4761.958037\n",
       "2    std      764.684759\n",
       "3    min     3436.541789\n",
       "4    25%     4410.400422\n",
       "5    50%     5189.004782\n",
       "6    75%     5288.027555\n",
       "7    max     5311.303730"
      ]
     },
     "metadata": {},
     "output_type": "display_data"
    }
   ],
   "source": [
    "# CREATE COLUMN DAY OF WEEK\n",
    "day['dayofweek'] = day['date_time'].dt.dayofweek\n",
    "by_dayofweek = day.groupby('dayofweek').mean()\n",
    "\n",
    "print(f'Describe for the day of week: ')\n",
    "display(by_dayofweek['traffic_volume'].describe().reset_index())  # 0 is Monday, 6 is Sunday"
   ]
  },
  {
   "cell_type": "code",
   "execution_count": 19,
   "metadata": {},
   "outputs": [
    {
     "name": "stdout",
     "output_type": "stream",
     "text": [
      "The average traffic volumn by hour business day: hour\n",
      "7     6030.413559\n",
      "8     5503.497970\n",
      "9     4895.269257\n",
      "10    4378.419118\n",
      "11    4633.419470\n",
      "12    4855.382143\n",
      "13    4859.180473\n",
      "14    5152.995778\n",
      "15    5592.897768\n",
      "16    6189.473647\n",
      "17    5784.827133\n",
      "18    4434.209431\n",
      "Name: traffic_volume, dtype: float64\n",
      "\n",
      "The average traffic volumn by hour weekend day: hour\n",
      "7     1589.365894\n",
      "8     2338.578073\n",
      "9     3111.623917\n",
      "10    3686.632302\n",
      "11    4044.154955\n",
      "12    4372.482883\n",
      "13    4362.296564\n",
      "14    4358.543796\n",
      "15    4342.456881\n",
      "16    4339.693805\n",
      "17    4151.919929\n",
      "18    3811.792279\n",
      "Name: traffic_volume, dtype: float64\n"
     ]
    }
   ],
   "source": [
    "# CREATE COLUMN HOUR BETWEEN BUSINESS DAY AND WEEKEND DAY\n",
    "day['hour'] = day['date_time'].dt.hour\n",
    "bussiness_day = day.copy()[day['dayofweek'] <= 4] # 0, 1, 2, 3, 4 = Mon, Tue, Wed , Thu, Fri\n",
    "weekend_day = day.copy()[day['dayofweek'] >= 5] # 5, 6 = Sat, Sun\n",
    "by_hour_business = bussiness_day.groupby('hour').mean()\n",
    "by_hour_weekend = weekend_day.groupby('hour').mean()\n",
    "\n",
    "print(f'The average traffic volumn by hour business day: {by_hour_business[\"traffic_volume\"]}')\n",
    "print()\n",
    "print(f'The average traffic volumn by hour weekend day: {by_hour_weekend[\"traffic_volume\"]}')"
   ]
  },
  {
   "cell_type": "code",
   "execution_count": 20,
   "metadata": {},
   "outputs": [
    {
     "data": {
      "image/png": "[encoded data removed]",
      "text/plain": [
       "<Figure size 792x252 with 2 Axes>"
      ]
     },
     "metadata": {
      "needs_background": "light"
     },
     "output_type": "display_data"
    }
   ],
   "source": [
    "# PLOT THE TRAFFIC VOLUME BY HOUR BUSINESS DAY\n",
    "plt.figure(figsize=(11, 3.5))\n",
    "plt.subplot(1, 2, 1)\n",
    "by_hour_business['traffic_volume'].plot.line()\n",
    "plt.title('The traffic volume by hour business day')\n",
    "plt.xlabel('hour business day')\n",
    "plt.xlim(5, 20)\n",
    "plt.ylim(1000, 6500)\n",
    "\n",
    "# PLOT THE TRAFFIC VOLUME BY HOUR WEEKEND DAY\n",
    "plt.subplot(1, 2, 2)\n",
    "by_hour_weekend['traffic_volume'].plot.line()\n",
    "plt.title('The traffic volume by hour weekend day')\n",
    "plt.xlabel('hour weekend day')\n",
    "plt.xlim(5, 20)\n",
    "plt.ylim(1000, 6500)\n",
    "\n",
    "plt.show()"
   ]
  },
  {
   "cell_type": "markdown",
   "metadata": {},
   "source": [
    "AT THE HOUR BUSINESS DAY THAT SHOW THE HIGHER TRAFFIC VOLUME START FROM 7 AM AND DECREASEING UNTIL 10 AM THAT ARE THE TIME THE PEOPLE GO TO WORK THEN INCREASING ABOUT 4 PM TO 5 PM AFTER THAT TEND TO DECRASE AGAIN AS USAULLY IN BUSINESS DAY. WE SEE VOLUMNS OF OVER 6,00 CARS AT RUSH HOURS.\n",
    "\n",
    "AND AT THE HOUR WEEKEND DAY THAT SHOW THE LOWER TRAFFIC VOLUME LESS THAN BUSINESS DAY. IT'S SO MAKE SENSE THE REASON IS WEEKEND THE PEOPLE STOP TO WORK AND RELAX AT HOME. THAT WHY THE TRAFFIC IS LESS."
   ]
  },
  {
   "cell_type": "markdown",
   "metadata": {},
   "source": [
    "SO FAR, WE HAVE FOCUSED ON FINDING TIME INDICATORS FOR HEAVY TRAFFIC, AND WE REACHED THE FOLLOWING CONCLUSIONS:\n",
    "\n",
    "    THE TRAFFIC IS USUALLY HEAVIER DURING WARM MONTHS (MARCH-OCTOBER) COMPARED TO COLD -MONTHS (NOVEMBER-GEBRUARY).\n",
    "    \n",
    "    THE TRAFFIC IS USUALLY HEAVIER ON BUSINESS DAYS COMPARED TO WEEKENDS.\n",
    "    \n",
    "    ON BUSINESS DAYS, THE RUSH HOURS ARE AROUND 7 AND 16."
   ]
  },
  {
   "cell_type": "markdown",
   "metadata": {},
   "source": [
    "## WEATHER INDICATORS\n",
    "\n",
    "\n",
    "* ANOTHER POSSIBLE INDICATOR OF HEAVY TRAFFIC IS WEATHER. \n",
    "\n",
    "\n",
    "* THE DATASET PROVIDES US WITH A FEW USEFUL COLUMNS ABOUT WEATHER\n",
    "\n",
    "    * TEMP\n",
    "    * RAIN_1H\n",
    "    * SNOW_1H\n",
    "    * CLOUDS_ALL\n",
    "    * WEATHER_MAIN\n",
    "    * WEATHER_DESCRIPTION\n",
    "    \n",
    "> LET'S SEE THE CORRELATION BETWEEN WEATHER INDICATORS AND TRAFFIC VOLUME"
   ]
  },
  {
   "cell_type": "code",
   "execution_count": 21,
   "metadata": {
    "scrolled": true
   },
   "outputs": [
    {
     "data": {
      "text/html": [
       "<div><div id=e76e7834-76d5-47f2-a052-c756688d5a96 style=\"display:none; background-color:#9D6CFF; color:white; width:200px; height:30px; padding-left:5px; border-radius:4px; flex-direction:row; justify-content:space-around; align-items:center;\" onmouseover=\"this.style.backgroundColor='#BA9BF8'\" onmouseout=\"this.style.backgroundColor='#9D6CFF'\" onclick=\"window.commands?.execute('create-mitosheet-from-dataframe-output');\">See Full Dataframe in Mito</div> <script> if (window.commands.hasCommand('create-mitosheet-from-dataframe-output')) document.getElementById('e76e7834-76d5-47f2-a052-c756688d5a96').style.display = 'flex' </script> <table border=\"1\" class=\"dataframe\">\n",
       "  <thead>\n",
       "    <tr style=\"text-align: right;\">\n",
       "      <th></th>\n",
       "      <th>temp</th>\n",
       "      <th>rain_1h</th>\n",
       "      <th>snow_1h</th>\n",
       "      <th>clouds_all</th>\n",
       "      <th>traffic_volume</th>\n",
       "    </tr>\n",
       "  </thead>\n",
       "  <tbody>\n",
       "    <tr>\n",
       "      <th>temp</th>\n",
       "      <td>1.000000</td>\n",
       "      <td>0.009069</td>\n",
       "      <td>-0.019755</td>\n",
       "      <td>-0.101976</td>\n",
       "      <td>0.130299</td>\n",
       "    </tr>\n",
       "    <tr>\n",
       "      <th>rain_1h</th>\n",
       "      <td>0.009069</td>\n",
       "      <td>1.000000</td>\n",
       "      <td>-0.000090</td>\n",
       "      <td>0.004818</td>\n",
       "      <td>0.004714</td>\n",
       "    </tr>\n",
       "    <tr>\n",
       "      <th>snow_1h</th>\n",
       "      <td>-0.019755</td>\n",
       "      <td>-0.000090</td>\n",
       "      <td>1.000000</td>\n",
       "      <td>0.027931</td>\n",
       "      <td>0.000733</td>\n",
       "    </tr>\n",
       "    <tr>\n",
       "      <th>clouds_all</th>\n",
       "      <td>-0.101976</td>\n",
       "      <td>0.004818</td>\n",
       "      <td>0.027931</td>\n",
       "      <td>1.000000</td>\n",
       "      <td>0.067054</td>\n",
       "    </tr>\n",
       "    <tr>\n",
       "      <th>traffic_volume</th>\n",
       "      <td>0.130299</td>\n",
       "      <td>0.004714</td>\n",
       "      <td>0.000733</td>\n",
       "      <td>0.067054</td>\n",
       "      <td>1.000000</td>\n",
       "    </tr>\n",
       "  </tbody>\n",
       "</table></div>"
      ],
      "text/plain": [
       "                    temp   rain_1h   snow_1h  clouds_all  traffic_volume\n",
       "temp            1.000000  0.009069 -0.019755   -0.101976        0.130299\n",
       "rain_1h         0.009069  1.000000 -0.000090    0.004818        0.004714\n",
       "snow_1h        -0.019755 -0.000090  1.000000    0.027931        0.000733\n",
       "clouds_all     -0.101976  0.004818  0.027931    1.000000        0.067054\n",
       "traffic_volume  0.130299  0.004714  0.000733    0.067054        1.000000"
      ]
     },
     "execution_count": 21,
     "metadata": {},
     "output_type": "execute_result"
    }
   ],
   "source": [
    "# SHOW FEATURES CORRELATION\n",
    "i_94.corr()"
   ]
  },
  {
   "cell_type": "code",
   "execution_count": 22,
   "metadata": {},
   "outputs": [
    {
     "data": {
      "text/html": [
       "<div><div id=05b5d13a-cd0c-47b9-a2f9-4d152af93277 style=\"display:none; background-color:#9D6CFF; color:white; width:200px; height:30px; padding-left:5px; border-radius:4px; flex-direction:row; justify-content:space-around; align-items:center;\" onmouseover=\"this.style.backgroundColor='#BA9BF8'\" onmouseout=\"this.style.backgroundColor='#9D6CFF'\" onclick=\"window.commands?.execute('create-mitosheet-from-dataframe-output');\">See Full Dataframe in Mito</div> <script> if (window.commands.hasCommand('create-mitosheet-from-dataframe-output')) document.getElementById('05b5d13a-cd0c-47b9-a2f9-4d152af93277').style.display = 'flex' </script> <table border=\"1\" class=\"dataframe\">\n",
       "  <thead>\n",
       "    <tr style=\"text-align: right;\">\n",
       "      <th></th>\n",
       "      <th>temp</th>\n",
       "      <th>traffic_volume</th>\n",
       "    </tr>\n",
       "  </thead>\n",
       "  <tbody>\n",
       "    <tr>\n",
       "      <th>0</th>\n",
       "      <td>288.28</td>\n",
       "      <td>5545</td>\n",
       "    </tr>\n",
       "    <tr>\n",
       "      <th>1</th>\n",
       "      <td>289.36</td>\n",
       "      <td>4516</td>\n",
       "    </tr>\n",
       "    <tr>\n",
       "      <th>2</th>\n",
       "      <td>289.58</td>\n",
       "      <td>4767</td>\n",
       "    </tr>\n",
       "    <tr>\n",
       "      <th>3</th>\n",
       "      <td>290.13</td>\n",
       "      <td>5026</td>\n",
       "    </tr>\n",
       "    <tr>\n",
       "      <th>4</th>\n",
       "      <td>291.14</td>\n",
       "      <td>4918</td>\n",
       "    </tr>\n",
       "    <tr>\n",
       "      <th>...</th>\n",
       "      <td>...</td>\n",
       "      <td>...</td>\n",
       "    </tr>\n",
       "    <tr>\n",
       "      <th>48199</th>\n",
       "      <td>283.45</td>\n",
       "      <td>3543</td>\n",
       "    </tr>\n",
       "    <tr>\n",
       "      <th>48200</th>\n",
       "      <td>282.76</td>\n",
       "      <td>2781</td>\n",
       "    </tr>\n",
       "    <tr>\n",
       "      <th>48201</th>\n",
       "      <td>282.73</td>\n",
       "      <td>2159</td>\n",
       "    </tr>\n",
       "    <tr>\n",
       "      <th>48202</th>\n",
       "      <td>282.09</td>\n",
       "      <td>1450</td>\n",
       "    </tr>\n",
       "    <tr>\n",
       "      <th>48203</th>\n",
       "      <td>282.12</td>\n",
       "      <td>954</td>\n",
       "    </tr>\n",
       "  </tbody>\n",
       "</table></div>"
      ],
      "text/plain": [
       "         temp  traffic_volume\n",
       "0      288.28            5545\n",
       "1      289.36            4516\n",
       "2      289.58            4767\n",
       "3      290.13            5026\n",
       "4      291.14            4918\n",
       "...       ...             ...\n",
       "48199  283.45            3543\n",
       "48200  282.76            2781\n",
       "48201  282.73            2159\n",
       "48202  282.09            1450\n",
       "48203  282.12             954\n",
       "\n",
       "[48204 rows x 2 columns]"
      ]
     },
     "metadata": {},
     "output_type": "display_data"
    },
    {
     "data": {
      "text/plain": [
       "<Figure size 792x252 with 0 Axes>"
      ]
     },
     "metadata": {},
     "output_type": "display_data"
    },
    {
     "data": {
      "image/png": "[encoded data removed]",
      "text/plain": [
       "<Figure size 360x360 with 1 Axes>"
      ]
     },
     "metadata": {
      "needs_background": "light"
     },
     "output_type": "display_data"
    }
   ],
   "source": [
    "# PLOT CORRELATION BETWEEN TEMP AND TRAFFIC_VOLUME COLUMNS\n",
    "plt.figure(figsize=(11, 3.5))\n",
    "# sns.set_theme()\n",
    "\n",
    "data = i_94[['temp', 'traffic_volume']]\n",
    "display(data)\n",
    "sns.relplot(data=data, x='traffic_volume', y='temp')\n",
    "plt.ylim(220, 320)\n",
    "plt.show()"
   ]
  },
  {
   "cell_type": "markdown",
   "metadata": {},
   "source": [
    "THE MOST STRONGER CORRELATION WITH TRAFFIC VOLUME FROM WEATHER INDICATORS IS TEMPERATURE.\n",
    "THE OTHERS ARE NOT SHOW ANY STRONG CORRELATION LIKE TEMP INDICATOR.\n",
    "\n",
    "LET'S SEE ABOVE RELATIONAL PLOT BETWEEN TEMPERATURE AND TRAFFIC VOLUME."
   ]
  },
  {
   "cell_type": "markdown",
   "metadata": {},
   "source": [
    "WE CAN CONCLUDE THAT TEMPERATURE DOESN'T LOOK LIKE A SOLID INDICATOR OF HEAVY TRAFFIC.\n",
    "\n",
    "TO SEE IF WE CAN FIND MORE USEFUL DATA. \n",
    "\n",
    "WE WILL LOOK NEXT AT THE CATEGORICAL WEATHER-RELARED COLUMNS : **'WEATHER_MAIN'** AND **'WEATHER_DESCRIPTION'**"
   ]
  },
  {
   "cell_type": "code",
   "execution_count": 23,
   "metadata": {},
   "outputs": [
    {
     "name": "stdout",
     "output_type": "stream",
     "text": [
      "The detail from weather_main data by day: \n"
     ]
    },
    {
     "data": {
      "text/html": [
       "<div><div id=b1450c81-af36-4768-9960-914f1c4eb982 style=\"display:none; background-color:#9D6CFF; color:white; width:200px; height:30px; padding-left:5px; border-radius:4px; flex-direction:row; justify-content:space-around; align-items:center;\" onmouseover=\"this.style.backgroundColor='#BA9BF8'\" onmouseout=\"this.style.backgroundColor='#9D6CFF'\" onclick=\"window.commands?.execute('create-mitosheet-from-dataframe-output');\">See Full Dataframe in Mito</div> <script> if (window.commands.hasCommand('create-mitosheet-from-dataframe-output')) document.getElementById('b1450c81-af36-4768-9960-914f1c4eb982').style.display = 'flex' </script> <table border=\"1\" class=\"dataframe\">\n",
       "  <thead>\n",
       "    <tr style=\"text-align: right;\">\n",
       "      <th></th>\n",
       "      <th>temp</th>\n",
       "      <th>rain_1h</th>\n",
       "      <th>snow_1h</th>\n",
       "      <th>clouds_all</th>\n",
       "      <th>traffic_volume</th>\n",
       "      <th>month</th>\n",
       "      <th>year</th>\n",
       "      <th>dayofweek</th>\n",
       "      <th>hour</th>\n",
       "    </tr>\n",
       "    <tr>\n",
       "      <th>weather_main</th>\n",
       "      <th></th>\n",
       "      <th></th>\n",
       "      <th></th>\n",
       "      <th></th>\n",
       "      <th></th>\n",
       "      <th></th>\n",
       "      <th></th>\n",
       "      <th></th>\n",
       "      <th></th>\n",
       "    </tr>\n",
       "  </thead>\n",
       "  <tbody>\n",
       "    <tr>\n",
       "      <th>Clear</th>\n",
       "      <td>283.812078</td>\n",
       "      <td>0.000000</td>\n",
       "      <td>0.000000</td>\n",
       "      <td>1.670265</td>\n",
       "      <td>4778.416260</td>\n",
       "      <td>6.490599</td>\n",
       "      <td>2015.619429</td>\n",
       "      <td>3.138928</td>\n",
       "      <td>12.404248</td>\n",
       "    </tr>\n",
       "    <tr>\n",
       "      <th>Clouds</th>\n",
       "      <td>282.929274</td>\n",
       "      <td>0.000000</td>\n",
       "      <td>0.000000</td>\n",
       "      <td>62.667548</td>\n",
       "      <td>4865.415996</td>\n",
       "      <td>6.393243</td>\n",
       "      <td>2015.321420</td>\n",
       "      <td>3.005631</td>\n",
       "      <td>12.911974</td>\n",
       "    </tr>\n",
       "    <tr>\n",
       "      <th>Drizzle</th>\n",
       "      <td>284.456433</td>\n",
       "      <td>0.170804</td>\n",
       "      <td>0.000000</td>\n",
       "      <td>84.704417</td>\n",
       "      <td>4837.212911</td>\n",
       "      <td>7.105323</td>\n",
       "      <td>2015.882220</td>\n",
       "      <td>2.934315</td>\n",
       "      <td>12.308041</td>\n",
       "    </tr>\n",
       "    <tr>\n",
       "      <th>Fog</th>\n",
       "      <td>277.579641</td>\n",
       "      <td>0.163840</td>\n",
       "      <td>0.001409</td>\n",
       "      <td>65.477901</td>\n",
       "      <td>4372.491713</td>\n",
       "      <td>6.646409</td>\n",
       "      <td>2015.814917</td>\n",
       "      <td>2.798343</td>\n",
       "      <td>10.325967</td>\n",
       "    </tr>\n",
       "    <tr>\n",
       "      <th>Haze</th>\n",
       "      <td>275.319353</td>\n",
       "      <td>0.040036</td>\n",
       "      <td>0.000000</td>\n",
       "      <td>64.000000</td>\n",
       "      <td>4609.893285</td>\n",
       "      <td>5.832134</td>\n",
       "      <td>2015.557554</td>\n",
       "      <td>2.754197</td>\n",
       "      <td>12.467626</td>\n",
       "    </tr>\n",
       "    <tr>\n",
       "      <th>...</th>\n",
       "      <td>...</td>\n",
       "      <td>...</td>\n",
       "      <td>...</td>\n",
       "      <td>...</td>\n",
       "      <td>...</td>\n",
       "      <td>...</td>\n",
       "      <td>...</td>\n",
       "      <td>...</td>\n",
       "      <td>...</td>\n",
       "    </tr>\n",
       "    <tr>\n",
       "      <th>Rain</th>\n",
       "      <td>287.089601</td>\n",
       "      <td>3.972943</td>\n",
       "      <td>0.000292</td>\n",
       "      <td>75.870116</td>\n",
       "      <td>4815.568462</td>\n",
       "      <td>6.774023</td>\n",
       "      <td>2015.572334</td>\n",
       "      <td>2.914467</td>\n",
       "      <td>12.642379</td>\n",
       "    </tr>\n",
       "    <tr>\n",
       "      <th>Smoke</th>\n",
       "      <td>292.405833</td>\n",
       "      <td>0.878333</td>\n",
       "      <td>0.000000</td>\n",
       "      <td>53.333333</td>\n",
       "      <td>4564.583333</td>\n",
       "      <td>6.833333</td>\n",
       "      <td>2015.916667</td>\n",
       "      <td>2.416667</td>\n",
       "      <td>13.166667</td>\n",
       "    </tr>\n",
       "    <tr>\n",
       "      <th>Snow</th>\n",
       "      <td>267.984505</td>\n",
       "      <td>0.014017</td>\n",
       "      <td>0.001768</td>\n",
       "      <td>80.501376</td>\n",
       "      <td>4396.321183</td>\n",
       "      <td>6.374828</td>\n",
       "      <td>2015.486245</td>\n",
       "      <td>2.750344</td>\n",
       "      <td>12.153370</td>\n",
       "    </tr>\n",
       "    <tr>\n",
       "      <th>Squall</th>\n",
       "      <td>296.730000</td>\n",
       "      <td>1.020000</td>\n",
       "      <td>0.000000</td>\n",
       "      <td>75.000000</td>\n",
       "      <td>4211.000000</td>\n",
       "      <td>7.000000</td>\n",
       "      <td>2016.000000</td>\n",
       "      <td>2.000000</td>\n",
       "      <td>14.000000</td>\n",
       "    </tr>\n",
       "    <tr>\n",
       "      <th>Thunderstorm</th>\n",
       "      <td>293.364678</td>\n",
       "      <td>1.146475</td>\n",
       "      <td>0.000000</td>\n",
       "      <td>75.184035</td>\n",
       "      <td>4648.212860</td>\n",
       "      <td>7.108647</td>\n",
       "      <td>2016.261641</td>\n",
       "      <td>2.955654</td>\n",
       "      <td>12.694013</td>\n",
       "    </tr>\n",
       "  </tbody>\n",
       "</table></div>"
      ],
      "text/plain": [
       "                    temp   rain_1h   snow_1h  clouds_all  traffic_volume  \\\n",
       "weather_main                                                               \n",
       "Clear         283.812078  0.000000  0.000000    1.670265     4778.416260   \n",
       "Clouds        282.929274  0.000000  0.000000   62.667548     4865.415996   \n",
       "Drizzle       284.456433  0.170804  0.000000   84.704417     4837.212911   \n",
       "Fog           277.579641  0.163840  0.001409   65.477901     4372.491713   \n",
       "Haze          275.319353  0.040036  0.000000   64.000000     4609.893285   \n",
       "Mist          279.420825  0.249992  0.000825   74.961435     4623.976475   \n",
       "Rain          287.089601  3.972943  0.000292   75.870116     4815.568462   \n",
       "Smoke         292.405833  0.878333  0.000000   53.333333     4564.583333   \n",
       "Snow          267.984505  0.014017  0.001768   80.501376     4396.321183   \n",
       "Squall        296.730000  1.020000  0.000000   75.000000     4211.000000   \n",
       "Thunderstorm  293.364678  1.146475  0.000000   75.184035     4648.212860   \n",
       "\n",
       "                 month         year  dayofweek       hour  \n",
       "weather_main                                               \n",
       "Clear         6.490599  2015.619429   3.138928  12.404248  \n",
       "Clouds        6.393243  2015.321420   3.005631  12.911974  \n",
       "Drizzle       7.105323  2015.882220   2.934315  12.308041  \n",
       "Fog           6.646409  2015.814917   2.798343  10.325967  \n",
       "Haze          5.832134  2015.557554   2.754197  12.467626  \n",
       "Mist          6.734285  2015.527574   2.895102  11.078288  \n",
       "Rain          6.774023  2015.572334   2.914467  12.642379  \n",
       "Smoke         6.833333  2015.916667   2.416667  13.166667  \n",
       "Snow          6.374828  2015.486245   2.750344  12.153370  \n",
       "Squall        7.000000  2016.000000   2.000000  14.000000  \n",
       "Thunderstorm  7.108647  2016.261641   2.955654  12.694013  "
      ]
     },
     "metadata": {},
     "output_type": "display_data"
    },
    {
     "name": "stdout",
     "output_type": "stream",
     "text": [
      "\n",
      "The detail from weather_description data by day: \n"
     ]
    },
    {
     "data": {
      "text/html": [
       "<div><div id=b33bf0df-b2e7-49cc-b5d9-250cdb5d657d style=\"display:none; background-color:#9D6CFF; color:white; width:200px; height:30px; padding-left:5px; border-radius:4px; flex-direction:row; justify-content:space-around; align-items:center;\" onmouseover=\"this.style.backgroundColor='#BA9BF8'\" onmouseout=\"this.style.backgroundColor='#9D6CFF'\" onclick=\"window.commands?.execute('create-mitosheet-from-dataframe-output');\">See Full Dataframe in Mito</div> <script> if (window.commands.hasCommand('create-mitosheet-from-dataframe-output')) document.getElementById('b33bf0df-b2e7-49cc-b5d9-250cdb5d657d').style.display = 'flex' </script> <table border=\"1\" class=\"dataframe\">\n",
       "  <thead>\n",
       "    <tr style=\"text-align: right;\">\n",
       "      <th></th>\n",
       "      <th>temp</th>\n",
       "      <th>rain_1h</th>\n",
       "      <th>snow_1h</th>\n",
       "      <th>clouds_all</th>\n",
       "      <th>traffic_volume</th>\n",
       "      <th>month</th>\n",
       "      <th>year</th>\n",
       "      <th>dayofweek</th>\n",
       "      <th>hour</th>\n",
       "    </tr>\n",
       "    <tr>\n",
       "      <th>weather_description</th>\n",
       "      <th></th>\n",
       "      <th></th>\n",
       "      <th></th>\n",
       "      <th></th>\n",
       "      <th></th>\n",
       "      <th></th>\n",
       "      <th></th>\n",
       "      <th></th>\n",
       "      <th></th>\n",
       "    </tr>\n",
       "  </thead>\n",
       "  <tbody>\n",
       "    <tr>\n",
       "      <th>SQUALLS</th>\n",
       "      <td>296.730000</td>\n",
       "      <td>1.020000</td>\n",
       "      <td>0.0</td>\n",
       "      <td>75.000000</td>\n",
       "      <td>4211.000000</td>\n",
       "      <td>7.000000</td>\n",
       "      <td>2016.000000</td>\n",
       "      <td>2.000000</td>\n",
       "      <td>14.000000</td>\n",
       "    </tr>\n",
       "    <tr>\n",
       "      <th>Sky is Clear</th>\n",
       "      <td>293.232549</td>\n",
       "      <td>0.000000</td>\n",
       "      <td>0.0</td>\n",
       "      <td>0.000000</td>\n",
       "      <td>4919.009390</td>\n",
       "      <td>7.557512</td>\n",
       "      <td>2014.723005</td>\n",
       "      <td>2.895540</td>\n",
       "      <td>12.453052</td>\n",
       "    </tr>\n",
       "    <tr>\n",
       "      <th>broken clouds</th>\n",
       "      <td>282.372927</td>\n",
       "      <td>0.000000</td>\n",
       "      <td>0.0</td>\n",
       "      <td>72.635875</td>\n",
       "      <td>4824.130326</td>\n",
       "      <td>6.675260</td>\n",
       "      <td>2015.266380</td>\n",
       "      <td>2.998210</td>\n",
       "      <td>12.811314</td>\n",
       "    </tr>\n",
       "    <tr>\n",
       "      <th>drizzle</th>\n",
       "      <td>283.573777</td>\n",
       "      <td>0.145072</td>\n",
       "      <td>0.0</td>\n",
       "      <td>88.589928</td>\n",
       "      <td>4737.330935</td>\n",
       "      <td>7.244604</td>\n",
       "      <td>2015.762590</td>\n",
       "      <td>3.028777</td>\n",
       "      <td>11.697842</td>\n",
       "    </tr>\n",
       "    <tr>\n",
       "      <th>few clouds</th>\n",
       "      <td>284.272965</td>\n",
       "      <td>0.000000</td>\n",
       "      <td>0.0</td>\n",
       "      <td>19.391951</td>\n",
       "      <td>4839.818023</td>\n",
       "      <td>6.159230</td>\n",
       "      <td>2015.139983</td>\n",
       "      <td>2.977253</td>\n",
       "      <td>12.633421</td>\n",
       "    </tr>\n",
       "    <tr>\n",
       "      <th>...</th>\n",
       "      <td>...</td>\n",
       "      <td>...</td>\n",
       "      <td>...</td>\n",
       "      <td>...</td>\n",
       "      <td>...</td>\n",
       "      <td>...</td>\n",
       "      <td>...</td>\n",
       "      <td>...</td>\n",
       "      <td>...</td>\n",
       "    </tr>\n",
       "    <tr>\n",
       "      <th>thunderstorm with heavy rain</th>\n",
       "      <td>292.783200</td>\n",
       "      <td>3.595600</td>\n",
       "      <td>0.0</td>\n",
       "      <td>82.480000</td>\n",
       "      <td>4555.760000</td>\n",
       "      <td>6.600000</td>\n",
       "      <td>2014.880000</td>\n",
       "      <td>3.000000</td>\n",
       "      <td>11.920000</td>\n",
       "    </tr>\n",
       "    <tr>\n",
       "      <th>thunderstorm with light drizzle</th>\n",
       "      <td>290.885000</td>\n",
       "      <td>2.635000</td>\n",
       "      <td>0.0</td>\n",
       "      <td>90.000000</td>\n",
       "      <td>4960.000000</td>\n",
       "      <td>8.000000</td>\n",
       "      <td>2017.666667</td>\n",
       "      <td>3.333333</td>\n",
       "      <td>12.833333</td>\n",
       "    </tr>\n",
       "    <tr>\n",
       "      <th>thunderstorm with light rain</th>\n",
       "      <td>292.243478</td>\n",
       "      <td>1.190000</td>\n",
       "      <td>0.0</td>\n",
       "      <td>76.565217</td>\n",
       "      <td>4336.130435</td>\n",
       "      <td>6.826087</td>\n",
       "      <td>2015.739130</td>\n",
       "      <td>3.173913</td>\n",
       "      <td>11.869565</td>\n",
       "    </tr>\n",
       "    <tr>\n",
       "      <th>thunderstorm with rain</th>\n",
       "      <td>293.074500</td>\n",
       "      <td>1.460000</td>\n",
       "      <td>0.0</td>\n",
       "      <td>82.350000</td>\n",
       "      <td>4522.950000</td>\n",
       "      <td>7.050000</td>\n",
       "      <td>2015.550000</td>\n",
       "      <td>2.950000</td>\n",
       "      <td>12.600000</td>\n",
       "    </tr>\n",
       "    <tr>\n",
       "      <th>very heavy rain</th>\n",
       "      <td>296.680000</td>\n",
       "      <td>1426.242857</td>\n",
       "      <td>0.0</td>\n",
       "      <td>51.857143</td>\n",
       "      <td>4780.571429</td>\n",
       "      <td>7.000000</td>\n",
       "      <td>2014.714286</td>\n",
       "      <td>1.571429</td>\n",
       "      <td>11.714286</td>\n",
       "    </tr>\n",
       "  </tbody>\n",
       "</table></div>"
      ],
      "text/plain": [
       "                                           temp      rain_1h   snow_1h  \\\n",
       "weather_description                                                      \n",
       "SQUALLS                              296.730000     1.020000  0.000000   \n",
       "Sky is Clear                         293.232549     0.000000  0.000000   \n",
       "broken clouds                        282.372927     0.000000  0.000000   \n",
       "drizzle                              283.573777     0.145072  0.000000   \n",
       "few clouds                           284.272965     0.000000  0.000000   \n",
       "fog                                  277.579641     0.163840  0.001409   \n",
       "freezing rain                        272.860000     0.000000  0.000000   \n",
       "haze                                 275.319353     0.040036  0.000000   \n",
       "heavy intensity drizzle              285.467931     0.276207  0.000000   \n",
       "heavy intensity rain                 290.231781     2.670548  0.000000   \n",
       "heavy snow                           269.256188     0.002375  0.000000   \n",
       "light intensity drizzle              284.902199     0.178848  0.000000   \n",
       "light intensity shower rain          290.563000     0.433000  0.000000   \n",
       "light rain                           286.349835     0.137147  0.000000   \n",
       "light rain and snow                  275.607500     0.317500  0.000000   \n",
       "light shower snow                    268.213636     0.000000  0.000000   \n",
       "light snow                           267.085634     0.015297  0.002106   \n",
       "mist                                 279.420825     0.249992  0.000825   \n",
       "moderate rain                        287.110124     0.572153  0.001057   \n",
       "overcast clouds                      278.802215     0.000000  0.000000   \n",
       "proximity shower rain                291.460090     0.279279  0.000000   \n",
       "proximity thunderstorm               293.552376     0.967756  0.000000   \n",
       "proximity thunderstorm with drizzle  287.913333     0.260000  0.000000   \n",
       "proximity thunderstorm with rain     291.210556     0.867222  0.000000   \n",
       "scattered clouds                     287.829086     0.000000  0.000000   \n",
       "shower drizzle                       271.330000     0.000000  0.000000   \n",
       "shower snow                          268.680000     0.000000  0.000000   \n",
       "sky is clear                         282.171390     0.000000  0.000000   \n",
       "sleet                                275.746667     0.000000  0.000000   \n",
       "smoke                                292.405833     0.878333  0.000000   \n",
       "snow                                 271.014891     0.024745  0.003723   \n",
       "thunderstorm                         295.168542     0.702083  0.000000   \n",
       "thunderstorm with drizzle            287.880000     5.345000  0.000000   \n",
       "thunderstorm with heavy rain         292.783200     3.595600  0.000000   \n",
       "thunderstorm with light drizzle      290.885000     2.635000  0.000000   \n",
       "thunderstorm with light rain         292.243478     1.190000  0.000000   \n",
       "thunderstorm with rain               293.074500     1.460000  0.000000   \n",
       "very heavy rain                      296.680000  1426.242857  0.000000   \n",
       "\n",
       "                                     clouds_all  traffic_volume     month  \\\n",
       "weather_description                                                         \n",
       "SQUALLS                               75.000000     4211.000000  7.000000   \n",
       "Sky is Clear                           0.000000     4919.009390  7.557512   \n",
       "broken clouds                         72.635875     4824.130326  6.675260   \n",
       "drizzle                               88.589928     4737.330935  7.244604   \n",
       "few clouds                            19.391951     4839.818023  6.159230   \n",
       "fog                                   65.477901     4372.491713  6.646409   \n",
       "freezing rain                         90.000000     4314.000000  6.500000   \n",
       "haze                                  64.000000     4609.893285  5.832134   \n",
       "heavy intensity drizzle               89.172414     4738.586207  7.551724   \n",
       "heavy intensity rain                  82.799087     4610.356164  7.150685   \n",
       "heavy snow                            85.287500     4411.681250  5.140625   \n",
       "light intensity drizzle               82.565445     4890.164049  7.020942   \n",
       "light intensity shower rain           88.500000     4558.100000  5.700000   \n",
       "light rain                            72.672525     4859.650849  6.610428   \n",
       "light rain and snow                   83.500000     5579.750000  7.500000   \n",
       "light shower snow                     81.909091     4618.636364  9.545455   \n",
       "light snow                            77.714724     4430.858896  6.734151   \n",
       "mist                                  74.961435     4623.976475  6.734285   \n",
       "moderate rain                         80.591083     4769.643312  7.008917   \n",
       "overcast clouds                       90.120696     4861.124952  6.078143   \n",
       "proximity shower rain                 78.108108     4901.756757  6.972973   \n",
       "proximity thunderstorm                73.511551     4684.356436  7.118812   \n",
       "proximity thunderstorm with drizzle   87.833333     5121.833333  8.500000   \n",
       "proximity thunderstorm with rain      82.666667     4501.611111  6.944444   \n",
       "scattered clouds                      40.043099     4936.787712  6.528198   \n",
       "shower drizzle                        90.000000     4932.666667  6.000000   \n",
       "shower snow                           90.000000     5664.000000  3.000000   \n",
       "sky is clear                           1.961161     4753.930294  6.304783   \n",
       "sleet                                 90.000000     4312.666667  7.000000   \n",
       "smoke                                 53.333333     4564.583333  6.833333   \n",
       "snow                                  88.737226     4054.065693  6.416058   \n",
       "thunderstorm                          71.437500     4724.708333  7.166667   \n",
       "thunderstorm with drizzle             90.000000     2297.000000  9.000000   \n",
       "thunderstorm with heavy rain          82.480000     4555.760000  6.600000   \n",
       "thunderstorm with light drizzle       90.000000     4960.000000  8.000000   \n",
       "thunderstorm with light rain          76.565217     4336.130435  6.826087   \n",
       "thunderstorm with rain                82.350000     4522.950000  7.050000   \n",
       "very heavy rain                       51.857143     4780.571429  7.000000   \n",
       "\n",
       "                                            year  dayofweek       hour  \n",
       "weather_description                                                     \n",
       "SQUALLS                              2016.000000   2.000000  14.000000  \n",
       "Sky is Clear                         2014.723005   2.895540  12.453052  \n",
       "broken clouds                        2015.266380   2.998210  12.811314  \n",
       "drizzle                              2015.762590   3.028777  11.697842  \n",
       "few clouds                           2015.139983   2.977253  12.633421  \n",
       "fog                                  2015.814917   2.798343  10.325967  \n",
       "freezing rain                        2014.500000   0.500000  13.500000  \n",
       "haze                                 2015.557554   2.754197  12.467626  \n",
       "heavy intensity drizzle              2015.793103   2.896552  12.275862  \n",
       "heavy intensity rain                 2015.876712   2.858447  12.442922  \n",
       "heavy snow                           2013.190625   2.975000  12.303125  \n",
       "light intensity drizzle              2015.935428   2.897033  12.612565  \n",
       "light intensity shower rain          2015.600000   3.200000  11.900000  \n",
       "light rain                           2015.330990   2.928530  12.779731  \n",
       "light rain and snow                  2013.500000   1.250000  15.000000  \n",
       "light shower snow                    2016.909091   1.181818  13.272727  \n",
       "light snow                           2016.199387   2.724949  11.978528  \n",
       "mist                                 2015.527574   2.895102  11.078288  \n",
       "moderate rain                        2015.821656   2.917197  12.301911  \n",
       "overcast clouds                      2015.199226   3.042553  12.765957  \n",
       "proximity shower rain                2016.990991   2.891892  13.441441  \n",
       "proximity thunderstorm               2016.359736   2.894389  12.828383  \n",
       "proximity thunderstorm with drizzle  2015.333333   2.500000  12.166667  \n",
       "proximity thunderstorm with rain     2016.833333   3.222222  11.333333  \n",
       "scattered clouds                     2015.631820   2.986245  13.359927  \n",
       "shower drizzle                       2017.666667   1.666667  11.000000  \n",
       "shower snow                          2013.000000   4.000000   7.000000  \n",
       "sky is clear                         2015.775552   3.181316  12.395748  \n",
       "sleet                                2017.000000   3.333333  14.000000  \n",
       "smoke                                2015.916667   2.416667  13.166667  \n",
       "snow                                 2015.686131   2.554745  12.875912  \n",
       "thunderstorm                         2016.708333   3.041667  13.250000  \n",
       "thunderstorm with drizzle            2014.500000   5.000000  12.500000  \n",
       "thunderstorm with heavy rain         2014.880000   3.000000  11.920000  \n",
       "thunderstorm with light drizzle      2017.666667   3.333333  12.833333  \n",
       "thunderstorm with light rain         2015.739130   3.173913  11.869565  \n",
       "thunderstorm with rain               2015.550000   2.950000  12.600000  \n",
       "very heavy rain                      2014.714286   1.571429  11.714286  "
      ]
     },
     "metadata": {},
     "output_type": "display_data"
    }
   ],
   "source": [
    "# SHOW DETAILS FROM WEATHER MAIN COLUMN \n",
    "by_weather_main = day.groupby('weather_main').mean()\n",
    "print(f'The detail from weather_main data by day: ')\n",
    "display(by_weather_main)\n",
    "print()\n",
    "\n",
    "# SHOW DETAILS FROM WEATHER DESCRIPTION \n",
    "by_weather_description = day.groupby('weather_description').mean()\n",
    "print(f'The detail from weather_description data by day: ')\n",
    "display(by_weather_description)"
   ]
  },
  {
   "cell_type": "code",
   "execution_count": 24,
   "metadata": {},
   "outputs": [
    {
     "data": {
      "image/png": "[encoded data removed]",
      "text/plain": [
       "<Figure size 432x288 with 1 Axes>"
      ]
     },
     "metadata": {
      "needs_background": "light"
     },
     "output_type": "display_data"
    }
   ],
   "source": [
    "# VISUALIZE WEATHER MAIN BY DAY\n",
    "by_weather_main['traffic_volume'].plot.barh()\n",
    "plt.title('The average of traffic volume with weather main by day')\n",
    "plt.xlabel('traffic volume')\n",
    "plt.show()"
   ]
  },
  {
   "cell_type": "markdown",
   "metadata": {},
   "source": [
    "FOR THE AVERAGE OF TRAFFIC VOLUME WITH **'WEATHER MAIN'** BY DAY. WE DON'T SEE ANY WEATHER THAT ANY TRAFFIC VOLUME EXCEED TO 5,000 CARS. BUT EVERY WEATHER HAVE THE TRAFFIC VOLUME MORE THAN 4,000 CARS THAT MEAN EVERY WEATHER AFFECT TO TRAFFIC VOLUME OR THIS MAKES FINDING A HEAVY TRAFFIC INDICATOR MORE DIFFICULT.\n",
    "\n",
    "LET'S ALSO GROUP BY **'WEATHER_DESCRIPTION'**, WHICH HAS A MORE GRANULAR WEATHER CLASSIFICATION."
   ]
  },
  {
   "cell_type": "code",
   "execution_count": 25,
   "metadata": {},
   "outputs": [
    {
     "data": {
      "image/png": "[encoded data removed]",
      "text/plain": [
       "<Figure size 360x720 with 1 Axes>"
      ]
     },
     "metadata": {
      "needs_background": "light"
     },
     "output_type": "display_data"
    }
   ],
   "source": [
    "# VISUALIZE AVERAGE OF TRAFFIC VOLUME WITH WEATHER DESCRIPTION BY DAY\n",
    "by_weather_description['traffic_volume'].plot.barh(figsize=(5,10))\n",
    "plt.title('The average of traffic volume with weather description by day')\n",
    "plt.xlabel('traffic volume')\n",
    "plt.show()"
   ]
  },
  {
   "cell_type": "markdown",
   "metadata": {},
   "source": [
    "IT LOOKS LIKE THERE ARE THREE WEATHER TYPES WHERE TRAFFIC VOLUME EXCEEDDS 5,000:\n",
    "\n",
    "    SHOW SNOW\n",
    "    LIGHT RAIN AND SNOW\n",
    "    PROXIMITY THUNDERSTORM WITH DRIZZLE\n",
    "    \n",
    "IT'S NOT CLEAR WHY THESE WEATHER TYPES HAVE THE HIGHEST AVERAGE TRAFFIC VALUES - THIS IS BAD WEATHER, BUT NOT THAT BAD. PERHAPS MORE PEOPLE TAKE THEIR CARS OUT OF THE GARAGE WHEN THE WEATHER IS BAD INSTEAD OF RIDING A BIKE OR WALKING\n",
    "\n",
    "### CONCLUSION\n",
    "\n",
    "IN THIS PROJECT, WE TRIED TO FIND A FEW INDICATORS OF HEAVY TRAFFIC ON THE I-94 INTERSTATE HIGHWAY. WE MANAGED TO FIND TWO TYPES OF INDICATORS:\n",
    "\n",
    "    TIME INDICATORS\n",
    "           THE TRAFFIC IS USUALLY HEAVIER DURING WARM MONTHS (MARCH-OCTOBER) COMPARED TO COLD MONTHS (NOVEMBER-FEBUARY).\n",
    "           THE TRAFFIC IS USUALLY HEAVIER ON BUSINESS DAYS COMPARED TO THE WEEKENDS.\n",
    "           ON BUSINESS DAYS, THE RUSH HOURS ARE AROUND 7 AND 16.\n",
    "           \n",
    "    WEATHER INDICORS\n",
    "            SHOWER SNOW\n",
    "            LIGHT RAIN AND SNOW\n",
    "            PROXIMITY THUNDERSTORM WITH DRIZZLE"
   ]
  },
  {
   "cell_type": "code",
   "execution_count": null,
   "metadata": {},
   "outputs": [],
   "source": []
  }
 ],
 "metadata": {
  "kernelspec": {
   "display_name": "Python 3 (ipykernel)",
   "language": "python",
   "name": "python3"
  },
  "language_info": {
   "codemirror_mode": {
    "name": "ipython",
    "version": 3
   },
   "file_extension": ".py",
   "mimetype": "text/x-python",
   "name": "python",
   "nbconvert_exporter": "python",
   "pygments_lexer": "ipython3",
   "version": "3.8.6"
  }
 },
 "nbformat": 4,
 "nbformat_minor": 4
}
